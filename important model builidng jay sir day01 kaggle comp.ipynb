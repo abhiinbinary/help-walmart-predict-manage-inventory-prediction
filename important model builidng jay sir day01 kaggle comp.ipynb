{
 "cells": [
  {
   "cell_type": "code",
   "execution_count": 2,
   "metadata": {},
   "outputs": [],
   "source": [
    "import pandas as pd\n",
    "import numpy as np\n",
    "import seaborn as sns\n",
    "import matplotlib.pyplot as plt\n",
    "from sklearn.preprocessing import RobustScaler,StandardScaler\n",
    "from sklearn.linear_model import LinearRegression\n",
    "from sklearn.tree import DecisionTreeRegressor\n",
    "from sklearn.neighbors import KNeighborsRegressor\n",
    "from sklearn.ensemble import RandomForestRegressor\n",
    "from sklearn.covariance import EllipticEnvelope"
   ]
  },
  {
   "cell_type": "code",
   "execution_count": 76,
   "metadata": {},
   "outputs": [],
   "source": [
    "train=pd.read_csv(\"C://Users//abhis//Downloads//train_data.csv\")"
   ]
  },
  {
   "cell_type": "code",
   "execution_count": 5,
   "metadata": {},
   "outputs": [],
   "source": [
    "macro=pd.read_excel(\"C://Users//abhis//Downloads//macro_economic.xlsx\")"
   ]
  },
  {
   "cell_type": "code",
   "execution_count": 6,
   "metadata": {},
   "outputs": [],
   "source": [
    "test=pd.read_csv(\"C://Users//abhis//Downloads//test _data.csv\")"
   ]
  },
  {
   "cell_type": "code",
   "execution_count": 8,
   "metadata": {},
   "outputs": [
    {
     "data": {
      "text/html": [
       "<div>\n",
       "<style scoped>\n",
       "    .dataframe tbody tr th:only-of-type {\n",
       "        vertical-align: middle;\n",
       "    }\n",
       "\n",
       "    .dataframe tbody tr th {\n",
       "        vertical-align: top;\n",
       "    }\n",
       "\n",
       "    .dataframe thead th {\n",
       "        text-align: right;\n",
       "    }\n",
       "</style>\n",
       "<table border=\"1\" class=\"dataframe\">\n",
       "  <thead>\n",
       "    <tr style=\"text-align: right;\">\n",
       "      <th></th>\n",
       "      <th>0</th>\n",
       "      <th>1</th>\n",
       "      <th>2</th>\n",
       "      <th>3</th>\n",
       "      <th>4</th>\n",
       "    </tr>\n",
       "  </thead>\n",
       "  <tbody>\n",
       "    <tr>\n",
       "      <th>Year-Month</th>\n",
       "      <td>2009 - Jan</td>\n",
       "      <td>2009 - Feb</td>\n",
       "      <td>2009 - Mar</td>\n",
       "      <td>2009 - Apr</td>\n",
       "      <td>2009 - May</td>\n",
       "    </tr>\n",
       "    <tr>\n",
       "      <th>Monthly Nominal GDP Index (inMillion$)</th>\n",
       "      <td>14421.8</td>\n",
       "      <td>14389.2</td>\n",
       "      <td>14340.7</td>\n",
       "      <td>14326.8</td>\n",
       "      <td>14345.9</td>\n",
       "    </tr>\n",
       "    <tr>\n",
       "      <th>Monthly Real GDP Index (inMillion$)</th>\n",
       "      <td>14407.1</td>\n",
       "      <td>14366.2</td>\n",
       "      <td>14351.8</td>\n",
       "      <td>14351.6</td>\n",
       "      <td>14368.1</td>\n",
       "    </tr>\n",
       "    <tr>\n",
       "      <th>CPI</th>\n",
       "      <td>233.402</td>\n",
       "      <td>234.663</td>\n",
       "      <td>235.067</td>\n",
       "      <td>235.582</td>\n",
       "      <td>235.975</td>\n",
       "    </tr>\n",
       "    <tr>\n",
       "      <th>PartyInPower</th>\n",
       "      <td>Democrats</td>\n",
       "      <td>Democrats</td>\n",
       "      <td>Democrats</td>\n",
       "      <td>Democrats</td>\n",
       "      <td>Democrats</td>\n",
       "    </tr>\n",
       "    <tr>\n",
       "      <th>unemployment rate</th>\n",
       "      <td>7.8</td>\n",
       "      <td>8.3</td>\n",
       "      <td>8.7</td>\n",
       "      <td>9</td>\n",
       "      <td>9.4</td>\n",
       "    </tr>\n",
       "    <tr>\n",
       "      <th>CommercialBankInterestRateonCreditCardPlans</th>\n",
       "      <td>12.03</td>\n",
       "      <td>12.97</td>\n",
       "      <td>12.97</td>\n",
       "      <td>12.97</td>\n",
       "      <td>13.32</td>\n",
       "    </tr>\n",
       "    <tr>\n",
       "      <th>Finance Rate on Personal Loans at Commercial Banks, 24 Month Loan</th>\n",
       "      <td>11.44</td>\n",
       "      <td>11.05</td>\n",
       "      <td>11.05</td>\n",
       "      <td>11.05</td>\n",
       "      <td>11.25</td>\n",
       "    </tr>\n",
       "    <tr>\n",
       "      <th>Earnings or wages  in dollars per hour</th>\n",
       "      <td>22.05</td>\n",
       "      <td>22.22</td>\n",
       "      <td>22.22</td>\n",
       "      <td>22.13</td>\n",
       "      <td>22.04</td>\n",
       "    </tr>\n",
       "    <tr>\n",
       "      <th>AdvertisingExpenses (in Thousand Dollars)</th>\n",
       "      <td>137</td>\n",
       "      <td>200</td>\n",
       "      <td>?</td>\n",
       "      <td>214</td>\n",
       "      <td>?</td>\n",
       "    </tr>\n",
       "    <tr>\n",
       "      <th>Cotton Monthly Price - US cents per Pound(lbs)</th>\n",
       "      <td>57.7</td>\n",
       "      <td>55.21</td>\n",
       "      <td>51.5</td>\n",
       "      <td>56.78</td>\n",
       "      <td>61.95</td>\n",
       "    </tr>\n",
       "    <tr>\n",
       "      <th>Change(in%)</th>\n",
       "      <td>4.02</td>\n",
       "      <td>-4.32</td>\n",
       "      <td>-6.72</td>\n",
       "      <td>10.25</td>\n",
       "      <td>9.11</td>\n",
       "    </tr>\n",
       "    <tr>\n",
       "      <th>Average upland planted(million acres)</th>\n",
       "      <td>9.296</td>\n",
       "      <td>9.296</td>\n",
       "      <td>9.296</td>\n",
       "      <td>9.296</td>\n",
       "      <td>9.297</td>\n",
       "    </tr>\n",
       "    <tr>\n",
       "      <th>Average upland harvested(million acres)</th>\n",
       "      <td>7.559</td>\n",
       "      <td>7.559</td>\n",
       "      <td>7.559</td>\n",
       "      <td>7.559</td>\n",
       "      <td>7.4</td>\n",
       "    </tr>\n",
       "    <tr>\n",
       "      <th>yieldperharvested acre</th>\n",
       "      <td>799</td>\n",
       "      <td>799</td>\n",
       "      <td>799</td>\n",
       "      <td>787</td>\n",
       "      <td>803</td>\n",
       "    </tr>\n",
       "    <tr>\n",
       "      <th>Production (in  480-lb netweright in million bales)</th>\n",
       "      <td>12.589</td>\n",
       "      <td>12.589</td>\n",
       "      <td>12.589</td>\n",
       "      <td>12.4</td>\n",
       "      <td>12.384</td>\n",
       "    </tr>\n",
       "    <tr>\n",
       "      <th>Mill use  (in  480-lb netweright in million bales)</th>\n",
       "      <td>4.17</td>\n",
       "      <td>3.87</td>\n",
       "      <td>3.72</td>\n",
       "      <td>3.62</td>\n",
       "      <td>3.52</td>\n",
       "    </tr>\n",
       "    <tr>\n",
       "      <th>Exports</th>\n",
       "      <td>11.55</td>\n",
       "      <td>11.1</td>\n",
       "      <td>11.65</td>\n",
       "      <td>12.225</td>\n",
       "      <td>12.3</td>\n",
       "    </tr>\n",
       "  </tbody>\n",
       "</table>\n",
       "</div>"
      ],
      "text/plain": [
       "                                                             0           1  \\\n",
       "Year-Month                                          2009 - Jan  2009 - Feb   \n",
       "Monthly Nominal GDP Index (inMillion$)                 14421.8     14389.2   \n",
       "Monthly Real GDP Index (inMillion$)                    14407.1     14366.2   \n",
       "CPI                                                    233.402     234.663   \n",
       "PartyInPower                                         Democrats   Democrats   \n",
       "unemployment rate                                          7.8         8.3   \n",
       "CommercialBankInterestRateonCreditCardPlans              12.03       12.97   \n",
       "Finance Rate on Personal Loans at Commercial Ba...       11.44       11.05   \n",
       "Earnings or wages  in dollars per hour                   22.05       22.22   \n",
       "AdvertisingExpenses (in Thousand Dollars)                  137         200   \n",
       "Cotton Monthly Price - US cents per Pound(lbs)            57.7       55.21   \n",
       "Change(in%)                                               4.02       -4.32   \n",
       "Average upland planted(million acres)                    9.296       9.296   \n",
       "Average upland harvested(million acres)                  7.559       7.559   \n",
       "yieldperharvested acre                                     799         799   \n",
       "Production (in  480-lb netweright in million ba...      12.589      12.589   \n",
       "Mill use  (in  480-lb netweright in million bales)        4.17        3.87   \n",
       "Exports                                                  11.55        11.1   \n",
       "\n",
       "                                                             2           3  \\\n",
       "Year-Month                                          2009 - Mar  2009 - Apr   \n",
       "Monthly Nominal GDP Index (inMillion$)                 14340.7     14326.8   \n",
       "Monthly Real GDP Index (inMillion$)                    14351.8     14351.6   \n",
       "CPI                                                    235.067     235.582   \n",
       "PartyInPower                                         Democrats   Democrats   \n",
       "unemployment rate                                          8.7           9   \n",
       "CommercialBankInterestRateonCreditCardPlans              12.97       12.97   \n",
       "Finance Rate on Personal Loans at Commercial Ba...       11.05       11.05   \n",
       "Earnings or wages  in dollars per hour                   22.22       22.13   \n",
       "AdvertisingExpenses (in Thousand Dollars)                    ?         214   \n",
       "Cotton Monthly Price - US cents per Pound(lbs)            51.5       56.78   \n",
       "Change(in%)                                              -6.72       10.25   \n",
       "Average upland planted(million acres)                    9.296       9.296   \n",
       "Average upland harvested(million acres)                  7.559       7.559   \n",
       "yieldperharvested acre                                     799         787   \n",
       "Production (in  480-lb netweright in million ba...      12.589        12.4   \n",
       "Mill use  (in  480-lb netweright in million bales)        3.72        3.62   \n",
       "Exports                                                  11.65      12.225   \n",
       "\n",
       "                                                             4  \n",
       "Year-Month                                          2009 - May  \n",
       "Monthly Nominal GDP Index (inMillion$)                 14345.9  \n",
       "Monthly Real GDP Index (inMillion$)                    14368.1  \n",
       "CPI                                                    235.975  \n",
       "PartyInPower                                         Democrats  \n",
       "unemployment rate                                          9.4  \n",
       "CommercialBankInterestRateonCreditCardPlans              13.32  \n",
       "Finance Rate on Personal Loans at Commercial Ba...       11.25  \n",
       "Earnings or wages  in dollars per hour                   22.04  \n",
       "AdvertisingExpenses (in Thousand Dollars)                    ?  \n",
       "Cotton Monthly Price - US cents per Pound(lbs)           61.95  \n",
       "Change(in%)                                               9.11  \n",
       "Average upland planted(million acres)                    9.297  \n",
       "Average upland harvested(million acres)                    7.4  \n",
       "yieldperharvested acre                                     803  \n",
       "Production (in  480-lb netweright in million ba...      12.384  \n",
       "Mill use  (in  480-lb netweright in million bales)        3.52  \n",
       "Exports                                                   12.3  "
      ]
     },
     "execution_count": 8,
     "metadata": {},
     "output_type": "execute_result"
    }
   ],
   "source": [
    "macro.head().T"
   ]
  },
  {
   "cell_type": "code",
   "execution_count": 9,
   "metadata": {},
   "outputs": [
    {
     "data": {
      "text/plain": [
       "Year-Month                                                           0\n",
       "Monthly Nominal GDP Index (inMillion$)                               0\n",
       "Monthly Real GDP Index (inMillion$)                                  0\n",
       "CPI                                                                  0\n",
       "PartyInPower                                                         0\n",
       "unemployment rate                                                    0\n",
       "CommercialBankInterestRateonCreditCardPlans                          0\n",
       "Finance Rate on Personal Loans at Commercial Banks, 24 Month Loan    0\n",
       "Earnings or wages  in dollars per hour                               0\n",
       "AdvertisingExpenses (in Thousand Dollars)                            0\n",
       "Cotton Monthly Price - US cents per Pound(lbs)                       0\n",
       "Change(in%)                                                          0\n",
       "Average upland planted(million acres)                                0\n",
       "Average upland harvested(million acres)                              0\n",
       "yieldperharvested acre                                               0\n",
       "Production (in  480-lb netweright in million bales)                  0\n",
       "Mill use  (in  480-lb netweright in million bales)                   0\n",
       "Exports                                                              0\n",
       "dtype: int64"
      ]
     },
     "execution_count": 9,
     "metadata": {},
     "output_type": "execute_result"
    }
   ],
   "source": [
    "macro.isnull().sum()"
   ]
  },
  {
   "cell_type": "code",
   "execution_count": 124,
   "metadata": {},
   "outputs": [
    {
     "name": "stdout",
     "output_type": "stream",
     "text": [
      "Monthly Nominal GDP Index (inMillion$)   0\n",
      "Monthly Real GDP Index (inMillion$)   0\n",
      "CPI   0\n",
      "unemployment rate   0\n",
      "CommercialBankInterestRateonCreditCardPlans   0\n",
      "Finance Rate on Personal Loans at Commercial Banks, 24 Month Loan   0\n",
      "Earnings or wages  in dollars per hour   0\n",
      "Cotton Monthly Price - US cents per Pound(lbs)   0\n",
      "Change(in%)   0\n",
      "Average upland planted(million acres)   0\n",
      "Average upland harvested(million acres)   0\n",
      "Production (in  480-lb netweright in million bales)   0\n",
      "Mill use  (in  480-lb netweright in million bales)   0\n",
      "Exports   0\n"
     ]
    }
   ],
   "source": [
    "for i in macro.columns:\n",
    "    if np.dtype(macro[i]).name==\"float64\":\n",
    "        print(i,' ',sum(macro[i]=='?'))"
   ]
  },
  {
   "cell_type": "code",
   "execution_count": 18,
   "metadata": {},
   "outputs": [
    {
     "data": {
      "text/plain": [
       "(96, 18)"
      ]
     },
     "execution_count": 18,
     "metadata": {},
     "output_type": "execute_result"
    }
   ],
   "source": [
    "macro.shape"
   ]
  },
  {
   "cell_type": "code",
   "execution_count": 17,
   "metadata": {},
   "outputs": [
    {
     "data": {
      "text/plain": [
       "?      85\n",
       "221     1\n",
       "150     1\n",
       "201     1\n",
       "137     1\n",
       "200     1\n",
       "248     1\n",
       "214     1\n",
       "165     1\n",
       "116     1\n",
       "183     1\n",
       "208     1\n",
       "Name: AdvertisingExpenses (in Thousand Dollars), dtype: int64"
      ]
     },
     "execution_count": 17,
     "metadata": {},
     "output_type": "execute_result"
    }
   ],
   "source": [
    "macro[\"AdvertisingExpenses (in Thousand Dollars)\"].value_counts()"
   ]
  },
  {
   "cell_type": "code",
   "execution_count": 19,
   "metadata": {},
   "outputs": [],
   "source": [
    "\n",
    "a=macro[macro[\"AdvertisingExpenses (in Thousand Dollars)\"]!='?'][\"AdvertisingExpenses (in Thousand Dollars)\"]"
   ]
  },
  {
   "cell_type": "code",
   "execution_count": 21,
   "metadata": {},
   "outputs": [
    {
     "data": {
      "text/plain": [
       "count     11.000000\n",
       "mean     185.727273\n",
       "std       39.754474\n",
       "min      116.000000\n",
       "25%      157.500000\n",
       "50%      200.000000\n",
       "75%      211.000000\n",
       "max      248.000000\n",
       "Name: AdvertisingExpenses (in Thousand Dollars), dtype: float64"
      ]
     },
     "execution_count": 21,
     "metadata": {},
     "output_type": "execute_result"
    }
   ],
   "source": [
    "a.astype(float).describe()"
   ]
  },
  {
   "cell_type": "code",
   "execution_count": 23,
   "metadata": {},
   "outputs": [],
   "source": [
    "#impute the ? with 200\n",
    "\n",
    "macro[\"AdvertisingExpenses (in Thousand Dollars)\"].replace(to_replace='?',value='200',inplace=True)"
   ]
  },
  {
   "cell_type": "code",
   "execution_count": 30,
   "metadata": {},
   "outputs": [],
   "source": [
    "macro[\"AdvertisingExpenses (in Thousand Dollars)\"]=pd.to_numeric(macro[\"AdvertisingExpenses (in Thousand Dollars)\"])"
   ]
  },
  {
   "cell_type": "code",
   "execution_count": 32,
   "metadata": {},
   "outputs": [
    {
     "data": {
      "text/plain": [
       "numpy.int64"
      ]
     },
     "execution_count": 32,
     "metadata": {},
     "output_type": "execute_result"
    }
   ],
   "source": [
    "type(list(macro[\"AdvertisingExpenses (in Thousand Dollars)\"].unique())[2])"
   ]
  },
  {
   "cell_type": "code",
   "execution_count": 56,
   "metadata": {},
   "outputs": [
    {
     "data": {
      "text/html": [
       "<div>\n",
       "<style scoped>\n",
       "    .dataframe tbody tr th:only-of-type {\n",
       "        vertical-align: middle;\n",
       "    }\n",
       "\n",
       "    .dataframe tbody tr th {\n",
       "        vertical-align: top;\n",
       "    }\n",
       "\n",
       "    .dataframe thead th {\n",
       "        text-align: right;\n",
       "    }\n",
       "</style>\n",
       "<table border=\"1\" class=\"dataframe\">\n",
       "  <thead>\n",
       "    <tr style=\"text-align: right;\">\n",
       "      <th></th>\n",
       "      <th>0</th>\n",
       "      <th>1</th>\n",
       "      <th>2</th>\n",
       "      <th>3</th>\n",
       "      <th>4</th>\n",
       "    </tr>\n",
       "  </thead>\n",
       "  <tbody>\n",
       "    <tr>\n",
       "      <th>Year-Month</th>\n",
       "      <td>2009 - Jan</td>\n",
       "      <td>2009 - Feb</td>\n",
       "      <td>2009 - Mar</td>\n",
       "      <td>2009 - Apr</td>\n",
       "      <td>2009 - May</td>\n",
       "    </tr>\n",
       "    <tr>\n",
       "      <th>Monthly Nominal GDP Index (inMillion$)</th>\n",
       "      <td>14421.8</td>\n",
       "      <td>14389.2</td>\n",
       "      <td>14340.7</td>\n",
       "      <td>14326.8</td>\n",
       "      <td>14345.9</td>\n",
       "    </tr>\n",
       "    <tr>\n",
       "      <th>Monthly Real GDP Index (inMillion$)</th>\n",
       "      <td>14407.1</td>\n",
       "      <td>14366.2</td>\n",
       "      <td>14351.8</td>\n",
       "      <td>14351.6</td>\n",
       "      <td>14368.1</td>\n",
       "    </tr>\n",
       "    <tr>\n",
       "      <th>CPI</th>\n",
       "      <td>233.402</td>\n",
       "      <td>234.663</td>\n",
       "      <td>235.067</td>\n",
       "      <td>235.582</td>\n",
       "      <td>235.975</td>\n",
       "    </tr>\n",
       "    <tr>\n",
       "      <th>PartyInPower</th>\n",
       "      <td>Democrats</td>\n",
       "      <td>Democrats</td>\n",
       "      <td>Democrats</td>\n",
       "      <td>Democrats</td>\n",
       "      <td>Democrats</td>\n",
       "    </tr>\n",
       "    <tr>\n",
       "      <th>unemployment rate</th>\n",
       "      <td>7.8</td>\n",
       "      <td>8.3</td>\n",
       "      <td>8.7</td>\n",
       "      <td>9</td>\n",
       "      <td>9.4</td>\n",
       "    </tr>\n",
       "    <tr>\n",
       "      <th>CommercialBankInterestRateonCreditCardPlans</th>\n",
       "      <td>12.03</td>\n",
       "      <td>12.97</td>\n",
       "      <td>12.97</td>\n",
       "      <td>12.97</td>\n",
       "      <td>13.32</td>\n",
       "    </tr>\n",
       "    <tr>\n",
       "      <th>Finance Rate on Personal Loans at Commercial Banks, 24 Month Loan</th>\n",
       "      <td>11.44</td>\n",
       "      <td>11.05</td>\n",
       "      <td>11.05</td>\n",
       "      <td>11.05</td>\n",
       "      <td>11.25</td>\n",
       "    </tr>\n",
       "    <tr>\n",
       "      <th>Earnings or wages  in dollars per hour</th>\n",
       "      <td>22.05</td>\n",
       "      <td>22.22</td>\n",
       "      <td>22.22</td>\n",
       "      <td>22.13</td>\n",
       "      <td>22.04</td>\n",
       "    </tr>\n",
       "    <tr>\n",
       "      <th>AdvertisingExpenses (in Thousand Dollars)</th>\n",
       "      <td>137</td>\n",
       "      <td>200</td>\n",
       "      <td>200</td>\n",
       "      <td>214</td>\n",
       "      <td>200</td>\n",
       "    </tr>\n",
       "    <tr>\n",
       "      <th>Cotton Monthly Price - US cents per Pound(lbs)</th>\n",
       "      <td>57.7</td>\n",
       "      <td>55.21</td>\n",
       "      <td>51.5</td>\n",
       "      <td>56.78</td>\n",
       "      <td>61.95</td>\n",
       "    </tr>\n",
       "    <tr>\n",
       "      <th>Change(in%)</th>\n",
       "      <td>4.02</td>\n",
       "      <td>-4.32</td>\n",
       "      <td>-6.72</td>\n",
       "      <td>10.25</td>\n",
       "      <td>9.11</td>\n",
       "    </tr>\n",
       "    <tr>\n",
       "      <th>Average upland planted(million acres)</th>\n",
       "      <td>9.296</td>\n",
       "      <td>9.296</td>\n",
       "      <td>9.296</td>\n",
       "      <td>9.296</td>\n",
       "      <td>9.297</td>\n",
       "    </tr>\n",
       "    <tr>\n",
       "      <th>Average upland harvested(million acres)</th>\n",
       "      <td>7.559</td>\n",
       "      <td>7.559</td>\n",
       "      <td>7.559</td>\n",
       "      <td>7.559</td>\n",
       "      <td>7.4</td>\n",
       "    </tr>\n",
       "    <tr>\n",
       "      <th>yieldperharvested acre</th>\n",
       "      <td>799</td>\n",
       "      <td>799</td>\n",
       "      <td>799</td>\n",
       "      <td>787</td>\n",
       "      <td>803</td>\n",
       "    </tr>\n",
       "    <tr>\n",
       "      <th>Production (in  480-lb netweright in million bales)</th>\n",
       "      <td>12.589</td>\n",
       "      <td>12.589</td>\n",
       "      <td>12.589</td>\n",
       "      <td>12.4</td>\n",
       "      <td>12.384</td>\n",
       "    </tr>\n",
       "    <tr>\n",
       "      <th>Mill use  (in  480-lb netweright in million bales)</th>\n",
       "      <td>4.17</td>\n",
       "      <td>3.87</td>\n",
       "      <td>3.72</td>\n",
       "      <td>3.62</td>\n",
       "      <td>3.52</td>\n",
       "    </tr>\n",
       "    <tr>\n",
       "      <th>Exports</th>\n",
       "      <td>11.55</td>\n",
       "      <td>11.1</td>\n",
       "      <td>11.65</td>\n",
       "      <td>12.225</td>\n",
       "      <td>12.3</td>\n",
       "    </tr>\n",
       "    <tr>\n",
       "      <th>Month</th>\n",
       "      <td>1</td>\n",
       "      <td>2</td>\n",
       "      <td>3</td>\n",
       "      <td>4</td>\n",
       "      <td>5</td>\n",
       "    </tr>\n",
       "  </tbody>\n",
       "</table>\n",
       "</div>"
      ],
      "text/plain": [
       "                                                             0           1  \\\n",
       "Year-Month                                          2009 - Jan  2009 - Feb   \n",
       "Monthly Nominal GDP Index (inMillion$)                 14421.8     14389.2   \n",
       "Monthly Real GDP Index (inMillion$)                    14407.1     14366.2   \n",
       "CPI                                                    233.402     234.663   \n",
       "PartyInPower                                         Democrats   Democrats   \n",
       "unemployment rate                                          7.8         8.3   \n",
       "CommercialBankInterestRateonCreditCardPlans              12.03       12.97   \n",
       "Finance Rate on Personal Loans at Commercial Ba...       11.44       11.05   \n",
       "Earnings or wages  in dollars per hour                   22.05       22.22   \n",
       "AdvertisingExpenses (in Thousand Dollars)                  137         200   \n",
       "Cotton Monthly Price - US cents per Pound(lbs)            57.7       55.21   \n",
       "Change(in%)                                               4.02       -4.32   \n",
       "Average upland planted(million acres)                    9.296       9.296   \n",
       "Average upland harvested(million acres)                  7.559       7.559   \n",
       "yieldperharvested acre                                     799         799   \n",
       "Production (in  480-lb netweright in million ba...      12.589      12.589   \n",
       "Mill use  (in  480-lb netweright in million bales)        4.17        3.87   \n",
       "Exports                                                  11.55        11.1   \n",
       "Month                                                        1           2   \n",
       "\n",
       "                                                             2           3  \\\n",
       "Year-Month                                          2009 - Mar  2009 - Apr   \n",
       "Monthly Nominal GDP Index (inMillion$)                 14340.7     14326.8   \n",
       "Monthly Real GDP Index (inMillion$)                    14351.8     14351.6   \n",
       "CPI                                                    235.067     235.582   \n",
       "PartyInPower                                         Democrats   Democrats   \n",
       "unemployment rate                                          8.7           9   \n",
       "CommercialBankInterestRateonCreditCardPlans              12.97       12.97   \n",
       "Finance Rate on Personal Loans at Commercial Ba...       11.05       11.05   \n",
       "Earnings or wages  in dollars per hour                   22.22       22.13   \n",
       "AdvertisingExpenses (in Thousand Dollars)                  200         214   \n",
       "Cotton Monthly Price - US cents per Pound(lbs)            51.5       56.78   \n",
       "Change(in%)                                              -6.72       10.25   \n",
       "Average upland planted(million acres)                    9.296       9.296   \n",
       "Average upland harvested(million acres)                  7.559       7.559   \n",
       "yieldperharvested acre                                     799         787   \n",
       "Production (in  480-lb netweright in million ba...      12.589        12.4   \n",
       "Mill use  (in  480-lb netweright in million bales)        3.72        3.62   \n",
       "Exports                                                  11.65      12.225   \n",
       "Month                                                        3           4   \n",
       "\n",
       "                                                             4  \n",
       "Year-Month                                          2009 - May  \n",
       "Monthly Nominal GDP Index (inMillion$)                 14345.9  \n",
       "Monthly Real GDP Index (inMillion$)                    14368.1  \n",
       "CPI                                                    235.975  \n",
       "PartyInPower                                         Democrats  \n",
       "unemployment rate                                          9.4  \n",
       "CommercialBankInterestRateonCreditCardPlans              13.32  \n",
       "Finance Rate on Personal Loans at Commercial Ba...       11.25  \n",
       "Earnings or wages  in dollars per hour                   22.04  \n",
       "AdvertisingExpenses (in Thousand Dollars)                  200  \n",
       "Cotton Monthly Price - US cents per Pound(lbs)           61.95  \n",
       "Change(in%)                                               9.11  \n",
       "Average upland planted(million acres)                    9.297  \n",
       "Average upland harvested(million acres)                    7.4  \n",
       "yieldperharvested acre                                     803  \n",
       "Production (in  480-lb netweright in million ba...      12.384  \n",
       "Mill use  (in  480-lb netweright in million bales)        3.52  \n",
       "Exports                                                   12.3  \n",
       "Month                                                        5  "
      ]
     },
     "execution_count": 56,
     "metadata": {},
     "output_type": "execute_result"
    }
   ],
   "source": [
    "macro.head().T"
   ]
  },
  {
   "cell_type": "code",
   "execution_count": 62,
   "metadata": {},
   "outputs": [
    {
     "data": {
      "text/html": [
       "<div>\n",
       "<style scoped>\n",
       "    .dataframe tbody tr th:only-of-type {\n",
       "        vertical-align: middle;\n",
       "    }\n",
       "\n",
       "    .dataframe tbody tr th {\n",
       "        vertical-align: top;\n",
       "    }\n",
       "\n",
       "    .dataframe thead th {\n",
       "        text-align: right;\n",
       "    }\n",
       "</style>\n",
       "<table border=\"1\" class=\"dataframe\">\n",
       "  <thead>\n",
       "    <tr style=\"text-align: right;\">\n",
       "      <th></th>\n",
       "      <th>Year</th>\n",
       "      <th>Month</th>\n",
       "      <th>ProductCategory</th>\n",
       "      <th>Sales(In ThousandDollars)</th>\n",
       "    </tr>\n",
       "  </thead>\n",
       "  <tbody>\n",
       "    <tr>\n",
       "      <th>0</th>\n",
       "      <td>2009</td>\n",
       "      <td>1</td>\n",
       "      <td>WomenClothing</td>\n",
       "      <td>1755.0</td>\n",
       "    </tr>\n",
       "    <tr>\n",
       "      <th>1</th>\n",
       "      <td>2009</td>\n",
       "      <td>1</td>\n",
       "      <td>MenClothing</td>\n",
       "      <td>524.0</td>\n",
       "    </tr>\n",
       "    <tr>\n",
       "      <th>2</th>\n",
       "      <td>2009</td>\n",
       "      <td>1</td>\n",
       "      <td>OtherClothing</td>\n",
       "      <td>936.0</td>\n",
       "    </tr>\n",
       "    <tr>\n",
       "      <th>3</th>\n",
       "      <td>2009</td>\n",
       "      <td>2</td>\n",
       "      <td>WomenClothing</td>\n",
       "      <td>1729.0</td>\n",
       "    </tr>\n",
       "    <tr>\n",
       "      <th>4</th>\n",
       "      <td>2009</td>\n",
       "      <td>2</td>\n",
       "      <td>MenClothing</td>\n",
       "      <td>496.0</td>\n",
       "    </tr>\n",
       "    <tr>\n",
       "      <th>5</th>\n",
       "      <td>2009</td>\n",
       "      <td>2</td>\n",
       "      <td>OtherClothing</td>\n",
       "      <td>859.0</td>\n",
       "    </tr>\n",
       "    <tr>\n",
       "      <th>6</th>\n",
       "      <td>2009</td>\n",
       "      <td>3</td>\n",
       "      <td>WomenClothing</td>\n",
       "      <td>2256.0</td>\n",
       "    </tr>\n",
       "    <tr>\n",
       "      <th>7</th>\n",
       "      <td>2009</td>\n",
       "      <td>3</td>\n",
       "      <td>MenClothing</td>\n",
       "      <td>542.0</td>\n",
       "    </tr>\n",
       "    <tr>\n",
       "      <th>8</th>\n",
       "      <td>2009</td>\n",
       "      <td>3</td>\n",
       "      <td>OtherClothing</td>\n",
       "      <td>921.0</td>\n",
       "    </tr>\n",
       "    <tr>\n",
       "      <th>9</th>\n",
       "      <td>2009</td>\n",
       "      <td>4</td>\n",
       "      <td>WomenClothing</td>\n",
       "      <td>2662.0</td>\n",
       "    </tr>\n",
       "  </tbody>\n",
       "</table>\n",
       "</div>"
      ],
      "text/plain": [
       "   Year  Month ProductCategory  Sales(In ThousandDollars)\n",
       "0  2009      1   WomenClothing                     1755.0\n",
       "1  2009      1     MenClothing                      524.0\n",
       "2  2009      1   OtherClothing                      936.0\n",
       "3  2009      2   WomenClothing                     1729.0\n",
       "4  2009      2     MenClothing                      496.0\n",
       "5  2009      2   OtherClothing                      859.0\n",
       "6  2009      3   WomenClothing                     2256.0\n",
       "7  2009      3     MenClothing                      542.0\n",
       "8  2009      3   OtherClothing                      921.0\n",
       "9  2009      4   WomenClothing                     2662.0"
      ]
     },
     "execution_count": 62,
     "metadata": {},
     "output_type": "execute_result"
    }
   ],
   "source": [
    "train.head(10)"
   ]
  },
  {
   "cell_type": "code",
   "execution_count": 82,
   "metadata": {},
   "outputs": [],
   "source": [
    "train.Year=train.Year.astype(str)"
   ]
  },
  {
   "cell_type": "code",
   "execution_count": 77,
   "metadata": {},
   "outputs": [],
   "source": [
    "import calendar\n",
    "train['Month'] = train['Month'].apply(lambda x: calendar.month_abbr[x])"
   ]
  },
  {
   "cell_type": "code",
   "execution_count": 83,
   "metadata": {},
   "outputs": [],
   "source": [
    "train[\"month\"]=train.Year + \" - \" + train.Month"
   ]
  },
  {
   "cell_type": "code",
   "execution_count": 85,
   "metadata": {},
   "outputs": [],
   "source": [
    "train.drop([\"Year\",\"Month\"],axis=1,inplace=True)"
   ]
  },
  {
   "cell_type": "code",
   "execution_count": 86,
   "metadata": {},
   "outputs": [
    {
     "data": {
      "text/html": [
       "<div>\n",
       "<style scoped>\n",
       "    .dataframe tbody tr th:only-of-type {\n",
       "        vertical-align: middle;\n",
       "    }\n",
       "\n",
       "    .dataframe tbody tr th {\n",
       "        vertical-align: top;\n",
       "    }\n",
       "\n",
       "    .dataframe thead th {\n",
       "        text-align: right;\n",
       "    }\n",
       "</style>\n",
       "<table border=\"1\" class=\"dataframe\">\n",
       "  <thead>\n",
       "    <tr style=\"text-align: right;\">\n",
       "      <th></th>\n",
       "      <th>ProductCategory</th>\n",
       "      <th>Sales(In ThousandDollars)</th>\n",
       "      <th>month</th>\n",
       "    </tr>\n",
       "  </thead>\n",
       "  <tbody>\n",
       "    <tr>\n",
       "      <th>0</th>\n",
       "      <td>WomenClothing</td>\n",
       "      <td>1755.0</td>\n",
       "      <td>2009 - Jan</td>\n",
       "    </tr>\n",
       "    <tr>\n",
       "      <th>1</th>\n",
       "      <td>MenClothing</td>\n",
       "      <td>524.0</td>\n",
       "      <td>2009 - Jan</td>\n",
       "    </tr>\n",
       "    <tr>\n",
       "      <th>2</th>\n",
       "      <td>OtherClothing</td>\n",
       "      <td>936.0</td>\n",
       "      <td>2009 - Jan</td>\n",
       "    </tr>\n",
       "    <tr>\n",
       "      <th>3</th>\n",
       "      <td>WomenClothing</td>\n",
       "      <td>1729.0</td>\n",
       "      <td>2009 - Feb</td>\n",
       "    </tr>\n",
       "    <tr>\n",
       "      <th>4</th>\n",
       "      <td>MenClothing</td>\n",
       "      <td>496.0</td>\n",
       "      <td>2009 - Feb</td>\n",
       "    </tr>\n",
       "  </tbody>\n",
       "</table>\n",
       "</div>"
      ],
      "text/plain": [
       "  ProductCategory  Sales(In ThousandDollars)       month\n",
       "0   WomenClothing                     1755.0  2009 - Jan\n",
       "1     MenClothing                      524.0  2009 - Jan\n",
       "2   OtherClothing                      936.0  2009 - Jan\n",
       "3   WomenClothing                     1729.0  2009 - Feb\n",
       "4     MenClothing                      496.0  2009 - Feb"
      ]
     },
     "execution_count": 86,
     "metadata": {},
     "output_type": "execute_result"
    }
   ],
   "source": [
    "train.head()"
   ]
  },
  {
   "cell_type": "code",
   "execution_count": 87,
   "metadata": {},
   "outputs": [
    {
     "data": {
      "text/html": [
       "<div>\n",
       "<style scoped>\n",
       "    .dataframe tbody tr th:only-of-type {\n",
       "        vertical-align: middle;\n",
       "    }\n",
       "\n",
       "    .dataframe tbody tr th {\n",
       "        vertical-align: top;\n",
       "    }\n",
       "\n",
       "    .dataframe thead th {\n",
       "        text-align: right;\n",
       "    }\n",
       "</style>\n",
       "<table border=\"1\" class=\"dataframe\">\n",
       "  <thead>\n",
       "    <tr style=\"text-align: right;\">\n",
       "      <th></th>\n",
       "      <th>Year</th>\n",
       "      <th>Month</th>\n",
       "      <th>ProductCategory</th>\n",
       "      <th>Sales(In ThousandDollars)</th>\n",
       "    </tr>\n",
       "  </thead>\n",
       "  <tbody>\n",
       "    <tr>\n",
       "      <th>0</th>\n",
       "      <td>2015</td>\n",
       "      <td>1</td>\n",
       "      <td>WomenClothing</td>\n",
       "      <td>NaN</td>\n",
       "    </tr>\n",
       "    <tr>\n",
       "      <th>1</th>\n",
       "      <td>2015</td>\n",
       "      <td>1</td>\n",
       "      <td>MenClothing</td>\n",
       "      <td>NaN</td>\n",
       "    </tr>\n",
       "    <tr>\n",
       "      <th>2</th>\n",
       "      <td>2015</td>\n",
       "      <td>1</td>\n",
       "      <td>OtherClothing</td>\n",
       "      <td>NaN</td>\n",
       "    </tr>\n",
       "    <tr>\n",
       "      <th>3</th>\n",
       "      <td>2015</td>\n",
       "      <td>2</td>\n",
       "      <td>WomenClothing</td>\n",
       "      <td>NaN</td>\n",
       "    </tr>\n",
       "    <tr>\n",
       "      <th>4</th>\n",
       "      <td>2015</td>\n",
       "      <td>2</td>\n",
       "      <td>MenClothing</td>\n",
       "      <td>NaN</td>\n",
       "    </tr>\n",
       "  </tbody>\n",
       "</table>\n",
       "</div>"
      ],
      "text/plain": [
       "   Year  Month ProductCategory  Sales(In ThousandDollars)\n",
       "0  2015      1   WomenClothing                        NaN\n",
       "1  2015      1     MenClothing                        NaN\n",
       "2  2015      1   OtherClothing                        NaN\n",
       "3  2015      2   WomenClothing                        NaN\n",
       "4  2015      2     MenClothing                        NaN"
      ]
     },
     "execution_count": 87,
     "metadata": {},
     "output_type": "execute_result"
    }
   ],
   "source": [
    "test.head()"
   ]
  },
  {
   "cell_type": "code",
   "execution_count": 88,
   "metadata": {},
   "outputs": [],
   "source": [
    "test.Year=test.Year.astype(str)"
   ]
  },
  {
   "cell_type": "code",
   "execution_count": 89,
   "metadata": {},
   "outputs": [],
   "source": [
    "import calendar\n",
    "test['Month'] = test['Month'].apply(lambda x: calendar.month_abbr[x])"
   ]
  },
  {
   "cell_type": "code",
   "execution_count": 92,
   "metadata": {},
   "outputs": [],
   "source": [
    "test[\"month\"]=test.Year + \" - \" + test.Month"
   ]
  },
  {
   "cell_type": "code",
   "execution_count": 93,
   "metadata": {},
   "outputs": [
    {
     "data": {
      "text/html": [
       "<div>\n",
       "<style scoped>\n",
       "    .dataframe tbody tr th:only-of-type {\n",
       "        vertical-align: middle;\n",
       "    }\n",
       "\n",
       "    .dataframe tbody tr th {\n",
       "        vertical-align: top;\n",
       "    }\n",
       "\n",
       "    .dataframe thead th {\n",
       "        text-align: right;\n",
       "    }\n",
       "</style>\n",
       "<table border=\"1\" class=\"dataframe\">\n",
       "  <thead>\n",
       "    <tr style=\"text-align: right;\">\n",
       "      <th></th>\n",
       "      <th>Year</th>\n",
       "      <th>Month</th>\n",
       "      <th>ProductCategory</th>\n",
       "      <th>Sales(In ThousandDollars)</th>\n",
       "      <th>month</th>\n",
       "    </tr>\n",
       "  </thead>\n",
       "  <tbody>\n",
       "    <tr>\n",
       "      <th>0</th>\n",
       "      <td>2015</td>\n",
       "      <td>Jan</td>\n",
       "      <td>WomenClothing</td>\n",
       "      <td>NaN</td>\n",
       "      <td>2015 - Jan</td>\n",
       "    </tr>\n",
       "    <tr>\n",
       "      <th>1</th>\n",
       "      <td>2015</td>\n",
       "      <td>Jan</td>\n",
       "      <td>MenClothing</td>\n",
       "      <td>NaN</td>\n",
       "      <td>2015 - Jan</td>\n",
       "    </tr>\n",
       "    <tr>\n",
       "      <th>2</th>\n",
       "      <td>2015</td>\n",
       "      <td>Jan</td>\n",
       "      <td>OtherClothing</td>\n",
       "      <td>NaN</td>\n",
       "      <td>2015 - Jan</td>\n",
       "    </tr>\n",
       "    <tr>\n",
       "      <th>3</th>\n",
       "      <td>2015</td>\n",
       "      <td>Feb</td>\n",
       "      <td>WomenClothing</td>\n",
       "      <td>NaN</td>\n",
       "      <td>2015 - Feb</td>\n",
       "    </tr>\n",
       "    <tr>\n",
       "      <th>4</th>\n",
       "      <td>2015</td>\n",
       "      <td>Feb</td>\n",
       "      <td>MenClothing</td>\n",
       "      <td>NaN</td>\n",
       "      <td>2015 - Feb</td>\n",
       "    </tr>\n",
       "  </tbody>\n",
       "</table>\n",
       "</div>"
      ],
      "text/plain": [
       "   Year Month ProductCategory  Sales(In ThousandDollars)       month\n",
       "0  2015   Jan   WomenClothing                        NaN  2015 - Jan\n",
       "1  2015   Jan     MenClothing                        NaN  2015 - Jan\n",
       "2  2015   Jan   OtherClothing                        NaN  2015 - Jan\n",
       "3  2015   Feb   WomenClothing                        NaN  2015 - Feb\n",
       "4  2015   Feb     MenClothing                        NaN  2015 - Feb"
      ]
     },
     "execution_count": 93,
     "metadata": {},
     "output_type": "execute_result"
    }
   ],
   "source": [
    "test.head()"
   ]
  },
  {
   "cell_type": "code",
   "execution_count": 94,
   "metadata": {},
   "outputs": [],
   "source": [
    "test.drop([\"Year\",\"Month\"],axis=1,inplace=True)"
   ]
  },
  {
   "cell_type": "code",
   "execution_count": 96,
   "metadata": {},
   "outputs": [],
   "source": [
    "test.drop(\"Sales(In ThousandDollars)\",axis=1,inplace=True)"
   ]
  },
  {
   "cell_type": "code",
   "execution_count": 97,
   "metadata": {},
   "outputs": [
    {
     "data": {
      "text/html": [
       "<div>\n",
       "<style scoped>\n",
       "    .dataframe tbody tr th:only-of-type {\n",
       "        vertical-align: middle;\n",
       "    }\n",
       "\n",
       "    .dataframe tbody tr th {\n",
       "        vertical-align: top;\n",
       "    }\n",
       "\n",
       "    .dataframe thead th {\n",
       "        text-align: right;\n",
       "    }\n",
       "</style>\n",
       "<table border=\"1\" class=\"dataframe\">\n",
       "  <thead>\n",
       "    <tr style=\"text-align: right;\">\n",
       "      <th></th>\n",
       "      <th>ProductCategory</th>\n",
       "      <th>month</th>\n",
       "    </tr>\n",
       "  </thead>\n",
       "  <tbody>\n",
       "    <tr>\n",
       "      <th>0</th>\n",
       "      <td>WomenClothing</td>\n",
       "      <td>2015 - Jan</td>\n",
       "    </tr>\n",
       "    <tr>\n",
       "      <th>1</th>\n",
       "      <td>MenClothing</td>\n",
       "      <td>2015 - Jan</td>\n",
       "    </tr>\n",
       "    <tr>\n",
       "      <th>2</th>\n",
       "      <td>OtherClothing</td>\n",
       "      <td>2015 - Jan</td>\n",
       "    </tr>\n",
       "    <tr>\n",
       "      <th>3</th>\n",
       "      <td>WomenClothing</td>\n",
       "      <td>2015 - Feb</td>\n",
       "    </tr>\n",
       "    <tr>\n",
       "      <th>4</th>\n",
       "      <td>MenClothing</td>\n",
       "      <td>2015 - Feb</td>\n",
       "    </tr>\n",
       "  </tbody>\n",
       "</table>\n",
       "</div>"
      ],
      "text/plain": [
       "  ProductCategory       month\n",
       "0   WomenClothing  2015 - Jan\n",
       "1     MenClothing  2015 - Jan\n",
       "2   OtherClothing  2015 - Jan\n",
       "3   WomenClothing  2015 - Feb\n",
       "4     MenClothing  2015 - Feb"
      ]
     },
     "execution_count": 97,
     "metadata": {},
     "output_type": "execute_result"
    }
   ],
   "source": [
    "test.head()"
   ]
  },
  {
   "cell_type": "code",
   "execution_count": 103,
   "metadata": {},
   "outputs": [],
   "source": [
    "test=test.rename({\"month\":\"Year-Month\"},axis=1)"
   ]
  },
  {
   "cell_type": "code",
   "execution_count": 105,
   "metadata": {},
   "outputs": [],
   "source": [
    "train=train.rename({\"month\":\"Year-Month\"},axis=1)"
   ]
  },
  {
   "cell_type": "code",
   "execution_count": 108,
   "metadata": {},
   "outputs": [],
   "source": [
    "test_data=pd.merge(test,macro,on=\"Year-Month\",how=\"inner\")"
   ]
  },
  {
   "cell_type": "code",
   "execution_count": 63,
   "metadata": {},
   "outputs": [
    {
     "data": {
      "text/html": [
       "<div>\n",
       "<style scoped>\n",
       "    .dataframe tbody tr th:only-of-type {\n",
       "        vertical-align: middle;\n",
       "    }\n",
       "\n",
       "    .dataframe tbody tr th {\n",
       "        vertical-align: top;\n",
       "    }\n",
       "\n",
       "    .dataframe thead th {\n",
       "        text-align: right;\n",
       "    }\n",
       "</style>\n",
       "<table border=\"1\" class=\"dataframe\">\n",
       "  <thead>\n",
       "    <tr style=\"text-align: right;\">\n",
       "      <th></th>\n",
       "      <th>Year-Month</th>\n",
       "      <th>Monthly Nominal GDP Index (inMillion$)</th>\n",
       "      <th>Monthly Real GDP Index (inMillion$)</th>\n",
       "      <th>CPI</th>\n",
       "      <th>PartyInPower</th>\n",
       "      <th>unemployment rate</th>\n",
       "      <th>CommercialBankInterestRateonCreditCardPlans</th>\n",
       "      <th>Finance Rate on Personal Loans at Commercial Banks, 24 Month Loan</th>\n",
       "      <th>Earnings or wages  in dollars per hour</th>\n",
       "      <th>AdvertisingExpenses (in Thousand Dollars)</th>\n",
       "      <th>Cotton Monthly Price - US cents per Pound(lbs)</th>\n",
       "      <th>Change(in%)</th>\n",
       "      <th>Average upland planted(million acres)</th>\n",
       "      <th>Average upland harvested(million acres)</th>\n",
       "      <th>yieldperharvested acre</th>\n",
       "      <th>Production (in  480-lb netweright in million bales)</th>\n",
       "      <th>Mill use  (in  480-lb netweright in million bales)</th>\n",
       "      <th>Exports</th>\n",
       "      <th>Month</th>\n",
       "    </tr>\n",
       "  </thead>\n",
       "  <tbody>\n",
       "    <tr>\n",
       "      <th>0</th>\n",
       "      <td>2009 - Jan</td>\n",
       "      <td>14421.752895</td>\n",
       "      <td>14407.053343</td>\n",
       "      <td>233.402</td>\n",
       "      <td>Democrats</td>\n",
       "      <td>7.8</td>\n",
       "      <td>12.03</td>\n",
       "      <td>11.44</td>\n",
       "      <td>22.05</td>\n",
       "      <td>137</td>\n",
       "      <td>57.70</td>\n",
       "      <td>4.02</td>\n",
       "      <td>9.296</td>\n",
       "      <td>7.559</td>\n",
       "      <td>799</td>\n",
       "      <td>12.589</td>\n",
       "      <td>4.17</td>\n",
       "      <td>11.55</td>\n",
       "      <td>1</td>\n",
       "    </tr>\n",
       "    <tr>\n",
       "      <th>1</th>\n",
       "      <td>2009 - Feb</td>\n",
       "      <td>14389.200466</td>\n",
       "      <td>14366.176571</td>\n",
       "      <td>234.663</td>\n",
       "      <td>Democrats</td>\n",
       "      <td>8.3</td>\n",
       "      <td>12.97</td>\n",
       "      <td>11.05</td>\n",
       "      <td>22.22</td>\n",
       "      <td>200</td>\n",
       "      <td>55.21</td>\n",
       "      <td>-4.32</td>\n",
       "      <td>9.296</td>\n",
       "      <td>7.559</td>\n",
       "      <td>799</td>\n",
       "      <td>12.589</td>\n",
       "      <td>3.87</td>\n",
       "      <td>11.10</td>\n",
       "      <td>2</td>\n",
       "    </tr>\n",
       "    <tr>\n",
       "      <th>2</th>\n",
       "      <td>2009 - Mar</td>\n",
       "      <td>14340.701639</td>\n",
       "      <td>14351.786822</td>\n",
       "      <td>235.067</td>\n",
       "      <td>Democrats</td>\n",
       "      <td>8.7</td>\n",
       "      <td>12.97</td>\n",
       "      <td>11.05</td>\n",
       "      <td>22.22</td>\n",
       "      <td>200</td>\n",
       "      <td>51.50</td>\n",
       "      <td>-6.72</td>\n",
       "      <td>9.296</td>\n",
       "      <td>7.559</td>\n",
       "      <td>799</td>\n",
       "      <td>12.589</td>\n",
       "      <td>3.72</td>\n",
       "      <td>11.65</td>\n",
       "      <td>3</td>\n",
       "    </tr>\n",
       "  </tbody>\n",
       "</table>\n",
       "</div>"
      ],
      "text/plain": [
       "   Year-Month  Monthly Nominal GDP Index (inMillion$)  \\\n",
       "0  2009 - Jan                            14421.752895   \n",
       "1  2009 - Feb                            14389.200466   \n",
       "2  2009 - Mar                            14340.701639   \n",
       "\n",
       "   Monthly Real GDP Index (inMillion$)      CPI PartyInPower  \\\n",
       "0                         14407.053343  233.402    Democrats   \n",
       "1                         14366.176571  234.663    Democrats   \n",
       "2                         14351.786822  235.067    Democrats   \n",
       "\n",
       "   unemployment rate  CommercialBankInterestRateonCreditCardPlans  \\\n",
       "0                7.8                                        12.03   \n",
       "1                8.3                                        12.97   \n",
       "2                8.7                                        12.97   \n",
       "\n",
       "   Finance Rate on Personal Loans at Commercial Banks, 24 Month Loan  \\\n",
       "0                                              11.44                   \n",
       "1                                              11.05                   \n",
       "2                                              11.05                   \n",
       "\n",
       "   Earnings or wages  in dollars per hour  \\\n",
       "0                                   22.05   \n",
       "1                                   22.22   \n",
       "2                                   22.22   \n",
       "\n",
       "   AdvertisingExpenses (in Thousand Dollars)  \\\n",
       "0                                        137   \n",
       "1                                        200   \n",
       "2                                        200   \n",
       "\n",
       "   Cotton Monthly Price - US cents per Pound(lbs)  Change(in%)  \\\n",
       "0                                           57.70         4.02   \n",
       "1                                           55.21        -4.32   \n",
       "2                                           51.50        -6.72   \n",
       "\n",
       "   Average upland planted(million acres)  \\\n",
       "0                                  9.296   \n",
       "1                                  9.296   \n",
       "2                                  9.296   \n",
       "\n",
       "   Average upland harvested(million acres)  yieldperharvested acre  \\\n",
       "0                                    7.559                     799   \n",
       "1                                    7.559                     799   \n",
       "2                                    7.559                     799   \n",
       "\n",
       "   Production (in  480-lb netweright in million bales)  \\\n",
       "0                                             12.589     \n",
       "1                                             12.589     \n",
       "2                                             12.589     \n",
       "\n",
       "   Mill use  (in  480-lb netweright in million bales)  Exports  Month  \n",
       "0                                               4.17     11.55      1  \n",
       "1                                               3.87     11.10      2  \n",
       "2                                               3.72     11.65      3  "
      ]
     },
     "execution_count": 63,
     "metadata": {},
     "output_type": "execute_result"
    }
   ],
   "source": [
    "macro.head(3)"
   ]
  },
  {
   "cell_type": "code",
   "execution_count": 110,
   "metadata": {},
   "outputs": [],
   "source": [
    "train_data=pd.merge(train,macro,on=\"Year-Month\",how=\"inner\")"
   ]
  },
  {
   "cell_type": "code",
   "execution_count": 112,
   "metadata": {},
   "outputs": [],
   "source": [
    "train_data.drop('Month',axis=1,inplace=True)"
   ]
  },
  {
   "cell_type": "code",
   "execution_count": 113,
   "metadata": {},
   "outputs": [],
   "source": [
    "test_data.drop('Month',axis=1,inplace=True)"
   ]
  },
  {
   "cell_type": "code",
   "execution_count": 115,
   "metadata": {},
   "outputs": [
    {
     "data": {
      "text/plain": [
       "(216, 20)"
      ]
     },
     "execution_count": 115,
     "metadata": {},
     "output_type": "execute_result"
    }
   ],
   "source": [
    "train_data.shape"
   ]
  },
  {
   "cell_type": "code",
   "execution_count": 116,
   "metadata": {},
   "outputs": [
    {
     "data": {
      "text/plain": [
       "(36, 19)"
      ]
     },
     "execution_count": 116,
     "metadata": {},
     "output_type": "execute_result"
    }
   ],
   "source": [
    "test_data.shape"
   ]
  },
  {
   "cell_type": "code",
   "execution_count": 121,
   "metadata": {},
   "outputs": [
    {
     "data": {
      "text/plain": [
       "ProductCategory                                                      0\n",
       "Sales(In ThousandDollars)                                            0\n",
       "Year-Month                                                           0\n",
       "Monthly Nominal GDP Index (inMillion$)                               0\n",
       "Monthly Real GDP Index (inMillion$)                                  0\n",
       "CPI                                                                  0\n",
       "PartyInPower                                                         0\n",
       "unemployment rate                                                    0\n",
       "CommercialBankInterestRateonCreditCardPlans                          0\n",
       "Finance Rate on Personal Loans at Commercial Banks, 24 Month Loan    0\n",
       "Earnings or wages  in dollars per hour                               0\n",
       "AdvertisingExpenses (in Thousand Dollars)                            0\n",
       "Cotton Monthly Price - US cents per Pound(lbs)                       0\n",
       "Change(in%)                                                          0\n",
       "Average upland planted(million acres)                                0\n",
       "Average upland harvested(million acres)                              0\n",
       "yieldperharvested acre                                               0\n",
       "Production (in  480-lb netweright in million bales)                  0\n",
       "Mill use  (in  480-lb netweright in million bales)                   0\n",
       "Exports                                                              0\n",
       "dtype: int64"
      ]
     },
     "execution_count": 121,
     "metadata": {},
     "output_type": "execute_result"
    }
   ],
   "source": [
    "train_data.isnull().sum()"
   ]
  },
  {
   "cell_type": "code",
   "execution_count": 119,
   "metadata": {},
   "outputs": [
    {
     "data": {
      "text/plain": [
       "count     204.000000\n",
       "mean     1702.352941\n",
       "std      1253.333110\n",
       "min       471.000000\n",
       "25%       710.750000\n",
       "50%      1080.500000\n",
       "75%      2750.750000\n",
       "max      5664.000000\n",
       "Name: Sales(In ThousandDollars), dtype: float64"
      ]
     },
     "execution_count": 119,
     "metadata": {},
     "output_type": "execute_result"
    }
   ],
   "source": [
    "train_data[\"Sales(In ThousandDollars)\"].describe()"
   ]
  },
  {
   "cell_type": "code",
   "execution_count": 120,
   "metadata": {},
   "outputs": [],
   "source": [
    "train_data[\"Sales(In ThousandDollars)\"].fillna(1080.5,inplace=True)"
   ]
  },
  {
   "cell_type": "code",
   "execution_count": 125,
   "metadata": {},
   "outputs": [
    {
     "data": {
      "text/html": [
       "<div>\n",
       "<style scoped>\n",
       "    .dataframe tbody tr th:only-of-type {\n",
       "        vertical-align: middle;\n",
       "    }\n",
       "\n",
       "    .dataframe tbody tr th {\n",
       "        vertical-align: top;\n",
       "    }\n",
       "\n",
       "    .dataframe thead th {\n",
       "        text-align: right;\n",
       "    }\n",
       "</style>\n",
       "<table border=\"1\" class=\"dataframe\">\n",
       "  <thead>\n",
       "    <tr style=\"text-align: right;\">\n",
       "      <th></th>\n",
       "      <th>ProductCategory</th>\n",
       "      <th>Year-Month</th>\n",
       "      <th>Monthly Nominal GDP Index (inMillion$)</th>\n",
       "      <th>Monthly Real GDP Index (inMillion$)</th>\n",
       "      <th>CPI</th>\n",
       "      <th>PartyInPower</th>\n",
       "      <th>unemployment rate</th>\n",
       "      <th>CommercialBankInterestRateonCreditCardPlans</th>\n",
       "      <th>Finance Rate on Personal Loans at Commercial Banks, 24 Month Loan</th>\n",
       "      <th>Earnings or wages  in dollars per hour</th>\n",
       "      <th>AdvertisingExpenses (in Thousand Dollars)</th>\n",
       "      <th>Cotton Monthly Price - US cents per Pound(lbs)</th>\n",
       "      <th>Change(in%)</th>\n",
       "      <th>Average upland planted(million acres)</th>\n",
       "      <th>Average upland harvested(million acres)</th>\n",
       "      <th>yieldperharvested acre</th>\n",
       "      <th>Production (in  480-lb netweright in million bales)</th>\n",
       "      <th>Mill use  (in  480-lb netweright in million bales)</th>\n",
       "      <th>Exports</th>\n",
       "    </tr>\n",
       "  </thead>\n",
       "  <tbody>\n",
       "    <tr>\n",
       "      <th>0</th>\n",
       "      <td>WomenClothing</td>\n",
       "      <td>2015 - Jan</td>\n",
       "      <td>17792.116953</td>\n",
       "      <td>16319.786314</td>\n",
       "      <td>258.376</td>\n",
       "      <td>Democrats</td>\n",
       "      <td>5.7</td>\n",
       "      <td>11.99</td>\n",
       "      <td>10.47</td>\n",
       "      <td>24.88</td>\n",
       "      <td>200</td>\n",
       "      <td>67.35</td>\n",
       "      <td>-1.39</td>\n",
       "      <td>10.845</td>\n",
       "      <td>9.518</td>\n",
       "      <td>760</td>\n",
       "      <td>15.496</td>\n",
       "      <td>3.775</td>\n",
       "      <td>9.45</td>\n",
       "    </tr>\n",
       "    <tr>\n",
       "      <th>1</th>\n",
       "      <td>MenClothing</td>\n",
       "      <td>2015 - Jan</td>\n",
       "      <td>17792.116953</td>\n",
       "      <td>16319.786314</td>\n",
       "      <td>258.376</td>\n",
       "      <td>Democrats</td>\n",
       "      <td>5.7</td>\n",
       "      <td>11.99</td>\n",
       "      <td>10.47</td>\n",
       "      <td>24.88</td>\n",
       "      <td>200</td>\n",
       "      <td>67.35</td>\n",
       "      <td>-1.39</td>\n",
       "      <td>10.845</td>\n",
       "      <td>9.518</td>\n",
       "      <td>760</td>\n",
       "      <td>15.496</td>\n",
       "      <td>3.775</td>\n",
       "      <td>9.45</td>\n",
       "    </tr>\n",
       "    <tr>\n",
       "      <th>2</th>\n",
       "      <td>OtherClothing</td>\n",
       "      <td>2015 - Jan</td>\n",
       "      <td>17792.116953</td>\n",
       "      <td>16319.786314</td>\n",
       "      <td>258.376</td>\n",
       "      <td>Democrats</td>\n",
       "      <td>5.7</td>\n",
       "      <td>11.99</td>\n",
       "      <td>10.47</td>\n",
       "      <td>24.88</td>\n",
       "      <td>200</td>\n",
       "      <td>67.35</td>\n",
       "      <td>-1.39</td>\n",
       "      <td>10.845</td>\n",
       "      <td>9.518</td>\n",
       "      <td>760</td>\n",
       "      <td>15.496</td>\n",
       "      <td>3.775</td>\n",
       "      <td>9.45</td>\n",
       "    </tr>\n",
       "    <tr>\n",
       "      <th>3</th>\n",
       "      <td>WomenClothing</td>\n",
       "      <td>2015 - Feb</td>\n",
       "      <td>17931.046190</td>\n",
       "      <td>16400.926737</td>\n",
       "      <td>259.240</td>\n",
       "      <td>Democrats</td>\n",
       "      <td>5.5</td>\n",
       "      <td>11.98</td>\n",
       "      <td>9.85</td>\n",
       "      <td>25.05</td>\n",
       "      <td>200</td>\n",
       "      <td>69.84</td>\n",
       "      <td>3.70</td>\n",
       "      <td>10.845</td>\n",
       "      <td>9.518</td>\n",
       "      <td>781</td>\n",
       "      <td>15.496</td>\n",
       "      <td>3.625</td>\n",
       "      <td>10.20</td>\n",
       "    </tr>\n",
       "    <tr>\n",
       "      <th>4</th>\n",
       "      <td>MenClothing</td>\n",
       "      <td>2015 - Feb</td>\n",
       "      <td>17931.046190</td>\n",
       "      <td>16400.926737</td>\n",
       "      <td>259.240</td>\n",
       "      <td>Democrats</td>\n",
       "      <td>5.5</td>\n",
       "      <td>11.98</td>\n",
       "      <td>9.85</td>\n",
       "      <td>25.05</td>\n",
       "      <td>200</td>\n",
       "      <td>69.84</td>\n",
       "      <td>3.70</td>\n",
       "      <td>10.845</td>\n",
       "      <td>9.518</td>\n",
       "      <td>781</td>\n",
       "      <td>15.496</td>\n",
       "      <td>3.625</td>\n",
       "      <td>10.20</td>\n",
       "    </tr>\n",
       "  </tbody>\n",
       "</table>\n",
       "</div>"
      ],
      "text/plain": [
       "  ProductCategory  Year-Month  Monthly Nominal GDP Index (inMillion$)  \\\n",
       "0   WomenClothing  2015 - Jan                            17792.116953   \n",
       "1     MenClothing  2015 - Jan                            17792.116953   \n",
       "2   OtherClothing  2015 - Jan                            17792.116953   \n",
       "3   WomenClothing  2015 - Feb                            17931.046190   \n",
       "4     MenClothing  2015 - Feb                            17931.046190   \n",
       "\n",
       "   Monthly Real GDP Index (inMillion$)      CPI PartyInPower  \\\n",
       "0                         16319.786314  258.376    Democrats   \n",
       "1                         16319.786314  258.376    Democrats   \n",
       "2                         16319.786314  258.376    Democrats   \n",
       "3                         16400.926737  259.240    Democrats   \n",
       "4                         16400.926737  259.240    Democrats   \n",
       "\n",
       "   unemployment rate  CommercialBankInterestRateonCreditCardPlans  \\\n",
       "0                5.7                                        11.99   \n",
       "1                5.7                                        11.99   \n",
       "2                5.7                                        11.99   \n",
       "3                5.5                                        11.98   \n",
       "4                5.5                                        11.98   \n",
       "\n",
       "   Finance Rate on Personal Loans at Commercial Banks, 24 Month Loan  \\\n",
       "0                                              10.47                   \n",
       "1                                              10.47                   \n",
       "2                                              10.47                   \n",
       "3                                               9.85                   \n",
       "4                                               9.85                   \n",
       "\n",
       "   Earnings or wages  in dollars per hour  \\\n",
       "0                                   24.88   \n",
       "1                                   24.88   \n",
       "2                                   24.88   \n",
       "3                                   25.05   \n",
       "4                                   25.05   \n",
       "\n",
       "   AdvertisingExpenses (in Thousand Dollars)  \\\n",
       "0                                        200   \n",
       "1                                        200   \n",
       "2                                        200   \n",
       "3                                        200   \n",
       "4                                        200   \n",
       "\n",
       "   Cotton Monthly Price - US cents per Pound(lbs)  Change(in%)  \\\n",
       "0                                           67.35        -1.39   \n",
       "1                                           67.35        -1.39   \n",
       "2                                           67.35        -1.39   \n",
       "3                                           69.84         3.70   \n",
       "4                                           69.84         3.70   \n",
       "\n",
       "   Average upland planted(million acres)  \\\n",
       "0                                 10.845   \n",
       "1                                 10.845   \n",
       "2                                 10.845   \n",
       "3                                 10.845   \n",
       "4                                 10.845   \n",
       "\n",
       "   Average upland harvested(million acres)  yieldperharvested acre  \\\n",
       "0                                    9.518                     760   \n",
       "1                                    9.518                     760   \n",
       "2                                    9.518                     760   \n",
       "3                                    9.518                     781   \n",
       "4                                    9.518                     781   \n",
       "\n",
       "   Production (in  480-lb netweright in million bales)  \\\n",
       "0                                             15.496     \n",
       "1                                             15.496     \n",
       "2                                             15.496     \n",
       "3                                             15.496     \n",
       "4                                             15.496     \n",
       "\n",
       "   Mill use  (in  480-lb netweright in million bales)  Exports  \n",
       "0                                              3.775      9.45  \n",
       "1                                              3.775      9.45  \n",
       "2                                              3.775      9.45  \n",
       "3                                              3.625     10.20  \n",
       "4                                              3.625     10.20  "
      ]
     },
     "execution_count": 125,
     "metadata": {},
     "output_type": "execute_result"
    }
   ],
   "source": [
    "test_data.head()"
   ]
  },
  {
   "cell_type": "markdown",
   "metadata": {},
   "source": [
    "# now model building"
   ]
  },
  {
   "cell_type": "code",
   "execution_count": 139,
   "metadata": {},
   "outputs": [],
   "source": [
    "k=[]\n",
    "for i in train_data.columns:\n",
    "    if np.dtype(train_data[i]).name==\"object\":\n",
    "        k.append(i)\n",
    "        "
   ]
  },
  {
   "cell_type": "code",
   "execution_count": 140,
   "metadata": {},
   "outputs": [
    {
     "data": {
      "text/plain": [
       "['ProductCategory', 'Year-Month', 'PartyInPower']"
      ]
     },
     "execution_count": 140,
     "metadata": {},
     "output_type": "execute_result"
    }
   ],
   "source": [
    "k"
   ]
  },
  {
   "cell_type": "code",
   "execution_count": 129,
   "metadata": {},
   "outputs": [
    {
     "data": {
      "text/plain": [
       "'object'"
      ]
     },
     "execution_count": 129,
     "metadata": {},
     "output_type": "execute_result"
    }
   ],
   "source": [
    "np.dtype(test_data[\"ProductCategory\"]).name"
   ]
  },
  {
   "cell_type": "code",
   "execution_count": 131,
   "metadata": {},
   "outputs": [
    {
     "data": {
      "text/plain": [
       "['ProductCategory', 'Year-Month', 'PartyInPower']"
      ]
     },
     "execution_count": 131,
     "metadata": {},
     "output_type": "execute_result"
    }
   ],
   "source": [
    "x"
   ]
  },
  {
   "cell_type": "code",
   "execution_count": 142,
   "metadata": {},
   "outputs": [
    {
     "data": {
      "text/plain": [
       "WomenClothing    12\n",
       "MenClothing      12\n",
       "OtherClothing    12\n",
       "Name: ProductCategory, dtype: int64"
      ]
     },
     "execution_count": 142,
     "metadata": {},
     "output_type": "execute_result"
    }
   ],
   "source": [
    "test_data.ProductCategory.value_counts()"
   ]
  },
  {
   "cell_type": "code",
   "execution_count": null,
   "metadata": {},
   "outputs": [],
   "source": []
  },
  {
   "cell_type": "code",
   "execution_count": null,
   "metadata": {},
   "outputs": [],
   "source": []
  },
  {
   "cell_type": "code",
   "execution_count": 143,
   "metadata": {},
   "outputs": [],
   "source": [
    "ohe_train=pd.get_dummies(train_data.drop(\"Year-Month\",axis=1))"
   ]
  },
  {
   "cell_type": "code",
   "execution_count": 144,
   "metadata": {},
   "outputs": [],
   "source": [
    "ohe_test=pd.get_dummies(test_data.drop(\"Year-Month\",axis=1))"
   ]
  },
  {
   "cell_type": "code",
   "execution_count": 145,
   "metadata": {},
   "outputs": [
    {
     "data": {
      "text/plain": [
       "(36, 20)"
      ]
     },
     "execution_count": 145,
     "metadata": {},
     "output_type": "execute_result"
    }
   ],
   "source": [
    "ohe_test.shape"
   ]
  },
  {
   "cell_type": "code",
   "execution_count": 146,
   "metadata": {},
   "outputs": [
    {
     "data": {
      "text/plain": [
       "(216, 21)"
      ]
     },
     "execution_count": 146,
     "metadata": {},
     "output_type": "execute_result"
    }
   ],
   "source": [
    "ohe_train.shape"
   ]
  },
  {
   "cell_type": "code",
   "execution_count": 147,
   "metadata": {},
   "outputs": [],
   "source": [
    "dummy=ohe_train.drop(\"Sales(In ThousandDollars)\",axis=1)"
   ]
  },
  {
   "cell_type": "code",
   "execution_count": 172,
   "metadata": {},
   "outputs": [
    {
     "name": "stderr",
     "output_type": "stream",
     "text": [
      "C:\\Users\\abhis\\Anaconda3\\lib\\site-packages\\sklearn\\preprocessing\\data.py:645: DataConversionWarning: Data with input dtype uint8, int64, float64 were all converted to float64 by StandardScaler.\n",
      "  return self.partial_fit(X, y)\n",
      "C:\\Users\\abhis\\Anaconda3\\lib\\site-packages\\sklearn\\base.py:464: DataConversionWarning: Data with input dtype uint8, int64, float64 were all converted to float64 by StandardScaler.\n",
      "  return self.fit(X, **fit_params).transform(X)\n"
     ]
    }
   ],
   "source": [
    "rs=StandardScaler()\n",
    "scaled_train=rs.fit_transform(dummy)"
   ]
  },
  {
   "cell_type": "code",
   "execution_count": 173,
   "metadata": {},
   "outputs": [
    {
     "name": "stderr",
     "output_type": "stream",
     "text": [
      "C:\\Users\\abhis\\Anaconda3\\lib\\site-packages\\sklearn\\preprocessing\\data.py:645: DataConversionWarning: Data with input dtype uint8, int64, float64 were all converted to float64 by StandardScaler.\n",
      "  return self.partial_fit(X, y)\n",
      "C:\\Users\\abhis\\Anaconda3\\lib\\site-packages\\sklearn\\base.py:464: DataConversionWarning: Data with input dtype uint8, int64, float64 were all converted to float64 by StandardScaler.\n",
      "  return self.fit(X, **fit_params).transform(X)\n"
     ]
    }
   ],
   "source": [
    "scaled_test=rs.fit_transform(ohe_test)"
   ]
  },
  {
   "cell_type": "code",
   "execution_count": 174,
   "metadata": {},
   "outputs": [],
   "source": [
    "scaled_tr=pd.DataFrame(scaled_train,columns=dummy.columns)"
   ]
  },
  {
   "cell_type": "code",
   "execution_count": 175,
   "metadata": {},
   "outputs": [],
   "source": [
    "scaled_te=pd.DataFrame(scaled_test,columns=ohe_test.columns)"
   ]
  },
  {
   "cell_type": "code",
   "execution_count": 176,
   "metadata": {},
   "outputs": [
    {
     "data": {
      "text/plain": [
       "(36, 20)"
      ]
     },
     "execution_count": 176,
     "metadata": {},
     "output_type": "execute_result"
    }
   ],
   "source": [
    "scaled_te.shape"
   ]
  },
  {
   "cell_type": "code",
   "execution_count": 177,
   "metadata": {},
   "outputs": [
    {
     "data": {
      "text/plain": [
       "(216, 20)"
      ]
     },
     "execution_count": 177,
     "metadata": {},
     "output_type": "execute_result"
    }
   ],
   "source": [
    "scaled_tr.shape"
   ]
  },
  {
   "cell_type": "code",
   "execution_count": 178,
   "metadata": {},
   "outputs": [],
   "source": [
    "x=scaled_tr\n",
    "y=ohe_train[\"Sales(In ThousandDollars)\"]"
   ]
  },
  {
   "cell_type": "code",
   "execution_count": 229,
   "metadata": {},
   "outputs": [],
   "source": [
    "dtree=DecisionTreeRegressor(max_depth=6)\n",
    "predict_dtree=dtree.fit(x,y).predict(scaled_te)"
   ]
  },
  {
   "cell_type": "code",
   "execution_count": 221,
   "metadata": {},
   "outputs": [],
   "source": [
    "lr=LinearRegression()\n",
    "predict_lr=lr.fit(x,y).predict(scaled_te)"
   ]
  },
  {
   "cell_type": "code",
   "execution_count": 181,
   "metadata": {},
   "outputs": [
    {
     "name": "stderr",
     "output_type": "stream",
     "text": [
      "C:\\Users\\abhis\\Anaconda3\\lib\\site-packages\\sklearn\\ensemble\\forest.py:246: FutureWarning: The default value of n_estimators will change from 10 in version 0.20 to 100 in 0.22.\n",
      "  \"10 in version 0.20 to 100 in 0.22.\", FutureWarning)\n"
     ]
    }
   ],
   "source": [
    "rf=RandomForestRegressor()\n",
    "predict_rf=rf.fit(x,y).predict(scaled_te)"
   ]
  },
  {
   "cell_type": "code",
   "execution_count": 230,
   "metadata": {},
   "outputs": [],
   "source": [
    "sol=pd.DataFrame(predict_dtree)"
   ]
  },
  {
   "cell_type": "code",
   "execution_count": 232,
   "metadata": {},
   "outputs": [],
   "source": [
    "sol.to_csv(\"myfile_12_dtree.csv\")"
   ]
  },
  {
   "cell_type": "code",
   "execution_count": 224,
   "metadata": {},
   "outputs": [
    {
     "name": "stdout",
     "output_type": "stream",
     "text": [
      "C:\\Users\\abhis\n"
     ]
    }
   ],
   "source": [
    "cd"
   ]
  },
  {
   "cell_type": "code",
   "execution_count": 195,
   "metadata": {},
   "outputs": [
    {
     "name": "stdout",
     "output_type": "stream",
     "text": [
      "Parameters currently in use:\n",
      "\n",
      "{'bootstrap': True,\n",
      " 'criterion': 'mse',\n",
      " 'max_depth': None,\n",
      " 'max_features': 'auto',\n",
      " 'max_leaf_nodes': None,\n",
      " 'min_impurity_decrease': 0.0,\n",
      " 'min_impurity_split': None,\n",
      " 'min_samples_leaf': 1,\n",
      " 'min_samples_split': 2,\n",
      " 'min_weight_fraction_leaf': 0.0,\n",
      " 'n_estimators': 'warn',\n",
      " 'n_jobs': None,\n",
      " 'oob_score': False,\n",
      " 'random_state': 42,\n",
      " 'verbose': 0,\n",
      " 'warm_start': False}\n"
     ]
    }
   ],
   "source": [
    "rf = RandomForestRegressor(random_state = 42)\n",
    "from pprint import pprint\n",
    "# Look at parameters used by our current forest\n",
    "print('Parameters currently in use:\\n')\n",
    "pprint(rf.get_params())"
   ]
  },
  {
   "cell_type": "code",
   "execution_count": 196,
   "metadata": {},
   "outputs": [],
   "source": [
    "from sklearn.model_selection import RandomizedSearchCV\n",
    "# Number of trees in random forest\n",
    "n_estimators = [int(x) for x in np.linspace(start = 200, stop = 2000, num = 10)]\n",
    "# Number of features to consider at every split\n",
    "max_features = ['auto', 'sqrt']\n",
    "# Maximum number of levels in tree\n",
    "max_depth = [int(x) for x in np.linspace(10, 110, num = 11)]\n",
    "max_depth.append(None)\n",
    "# Minimum number of samples required to split a node\n",
    "min_samples_split = [2, 5, 10]\n",
    "# Minimum number of samples required at each leaf node\n",
    "min_samples_leaf = [1, 2, 4]\n",
    "# Method of selecting samples for training each tree\n",
    "bootstrap = [True, False]"
   ]
  },
  {
   "cell_type": "code",
   "execution_count": 197,
   "metadata": {},
   "outputs": [],
   "source": [
    "random_grid = {'n_estimators': n_estimators,\n",
    "               'max_features': max_features,\n",
    "               'max_depth': max_depth,\n",
    "               'min_samples_split': min_samples_split,\n",
    "               'min_samples_leaf': min_samples_leaf,\n",
    "               'bootstrap': bootstrap}"
   ]
  },
  {
   "cell_type": "code",
   "execution_count": 198,
   "metadata": {},
   "outputs": [
    {
     "name": "stdout",
     "output_type": "stream",
     "text": [
      "{'bootstrap': [True, False],\n",
      " 'max_depth': [10, 20, 30, 40, 50, 60, 70, 80, 90, 100, 110, None],\n",
      " 'max_features': ['auto', 'sqrt'],\n",
      " 'min_samples_leaf': [1, 2, 4],\n",
      " 'min_samples_split': [2, 5, 10],\n",
      " 'n_estimators': [200, 400, 600, 800, 1000, 1200, 1400, 1600, 1800, 2000]}\n"
     ]
    }
   ],
   "source": [
    "pprint(random_grid)"
   ]
  },
  {
   "cell_type": "code",
   "execution_count": 199,
   "metadata": {},
   "outputs": [],
   "source": [
    "# Use the random grid to search for best hyperparameters\n",
    "# First create the base model to tune\n",
    "rf = RandomForestRegressor()\n",
    "# Random search of parameters, using 3 fold cross validation, \n",
    "# search across 100 different combinations, and use all available cores\n",
    "rf_random = RandomizedSearchCV(estimator = rf, param_distributions = random_grid, n_iter = 100, cv = 3, verbose=2, random_state=42, n_jobs = -1)"
   ]
  },
  {
   "cell_type": "code",
   "execution_count": 200,
   "metadata": {},
   "outputs": [
    {
     "name": "stderr",
     "output_type": "stream",
     "text": [
      "C:\\Users\\abhis\\Anaconda3\\lib\\site-packages\\sklearn\\ensemble\\forest.py:246: FutureWarning: The default value of n_estimators will change from 10 in version 0.20 to 100 in 0.22.\n",
      "  \"10 in version 0.20 to 100 in 0.22.\", FutureWarning)\n"
     ]
    }
   ],
   "source": [
    "pred_rf=rf.fit(x,y).predict(scaled_te)"
   ]
  },
  {
   "cell_type": "code",
   "execution_count": 201,
   "metadata": {},
   "outputs": [
    {
     "name": "stdout",
     "output_type": "stream",
     "text": [
      "Fitting 3 folds for each of 100 candidates, totalling 300 fits\n"
     ]
    },
    {
     "name": "stderr",
     "output_type": "stream",
     "text": [
      "[Parallel(n_jobs=-1)]: Using backend LokyBackend with 8 concurrent workers.\n",
      "[Parallel(n_jobs=-1)]: Done  25 tasks      | elapsed:   10.0s\n",
      "[Parallel(n_jobs=-1)]: Done 146 tasks      | elapsed:   33.2s\n",
      "[Parallel(n_jobs=-1)]: Done 300 out of 300 | elapsed:  1.1min finished\n"
     ]
    },
    {
     "data": {
      "text/plain": [
       "RandomizedSearchCV(cv=3, error_score='raise-deprecating',\n",
       "          estimator=RandomForestRegressor(bootstrap=True, criterion='mse', max_depth=None,\n",
       "           max_features='auto', max_leaf_nodes=None,\n",
       "           min_impurity_decrease=0.0, min_impurity_split=None,\n",
       "           min_samples_leaf=1, min_samples_split=2,\n",
       "           min_weight_fraction_leaf=0.0, n_estimators=10, n_jobs=None,\n",
       "           oob_score=False, random_state=None, verbose=0, warm_start=False),\n",
       "          fit_params=None, iid='warn', n_iter=100, n_jobs=-1,\n",
       "          param_distributions={'n_estimators': [200, 400, 600, 800, 1000, 1200, 1400, 1600, 1800, 2000], 'max_features': ['auto', 'sqrt'], 'max_depth': [10, 20, 30, 40, 50, 60, 70, 80, 90, 100, 110, None], 'min_samples_split': [2, 5, 10], 'min_samples_leaf': [1, 2, 4], 'bootstrap': [True, False]},\n",
       "          pre_dispatch='2*n_jobs', random_state=42, refit=True,\n",
       "          return_train_score='warn', scoring=None, verbose=2)"
      ]
     },
     "execution_count": 201,
     "metadata": {},
     "output_type": "execute_result"
    }
   ],
   "source": [
    "rf_random.fit(x,y)"
   ]
  },
  {
   "cell_type": "code",
   "execution_count": 202,
   "metadata": {},
   "outputs": [
    {
     "data": {
      "text/plain": [
       "{'n_estimators': 200,\n",
       " 'min_samples_split': 5,\n",
       " 'min_samples_leaf': 4,\n",
       " 'max_features': 'auto',\n",
       " 'max_depth': 80,\n",
       " 'bootstrap': True}"
      ]
     },
     "execution_count": 202,
     "metadata": {},
     "output_type": "execute_result"
    }
   ],
   "source": [
    "rf_random.best_params_"
   ]
  },
  {
   "cell_type": "code",
   "execution_count": 203,
   "metadata": {},
   "outputs": [],
   "source": [
    "rf=RandomForestRegressor(n_estimators=200,min_samples_split=5,min_samples_leaf=4,max_depth=80,max_features='auto',bootstrap=True)"
   ]
  },
  {
   "cell_type": "code",
   "execution_count": 209,
   "metadata": {},
   "outputs": [],
   "source": [
    "from sklearn.model_selection import GridSearchCV\n",
    "# Create the parameter grid based on the results of random search \n",
    "param_grid = {\n",
    "    'bootstrap': [True],\n",
    "    'max_depth': [80, 90, 100, 110],\n",
    "    'max_features': [2, 3],\n",
    "    'min_samples_leaf': [3, 4, 5],\n",
    "    'min_samples_split': [8, 10, 12],\n",
    "    'n_estimators': [100, 200, 300, 1000]\n",
    "}\n",
    "# Create a based model\n",
    "rf = RandomForestRegressor()\n",
    "# Instantiate the grid search model\n",
    "grid_search = GridSearchCV(estimator = rf, param_grid = param_grid, \n",
    "                          cv = 3, n_jobs = -1, verbose = 2)"
   ]
  },
  {
   "cell_type": "code",
   "execution_count": 210,
   "metadata": {},
   "outputs": [
    {
     "name": "stdout",
     "output_type": "stream",
     "text": [
      "Fitting 3 folds for each of 288 candidates, totalling 864 fits\n"
     ]
    },
    {
     "name": "stderr",
     "output_type": "stream",
     "text": [
      "[Parallel(n_jobs=-1)]: Using backend LokyBackend with 8 concurrent workers.\n",
      "[Parallel(n_jobs=-1)]: Done  25 tasks      | elapsed:   13.1s\n",
      "[Parallel(n_jobs=-1)]: Done 146 tasks      | elapsed:   19.5s\n",
      "[Parallel(n_jobs=-1)]: Done 349 tasks      | elapsed:   31.2s\n",
      "[Parallel(n_jobs=-1)]: Done 632 tasks      | elapsed:   47.2s\n",
      "[Parallel(n_jobs=-1)]: Done 864 out of 864 | elapsed:  1.0min finished\n"
     ]
    },
    {
     "data": {
      "text/plain": [
       "{'bootstrap': True,\n",
       " 'max_depth': 100,\n",
       " 'max_features': 3,\n",
       " 'min_samples_leaf': 3,\n",
       " 'min_samples_split': 8,\n",
       " 'n_estimators': 200}"
      ]
     },
     "execution_count": 210,
     "metadata": {},
     "output_type": "execute_result"
    }
   ],
   "source": [
    "grid_search.fit(x,y)\n",
    "grid_search.best_params_"
   ]
  },
  {
   "cell_type": "code",
   "execution_count": 214,
   "metadata": {},
   "outputs": [],
   "source": [
    "rf=RandomForestRegressor(n_estimators=200,\n",
    "                         min_samples_split=8,min_samples_leaf=3,max_depth=100,max_features=3,bootstrap=True)"
   ]
  },
  {
   "cell_type": "code",
   "execution_count": null,
   "metadata": {},
   "outputs": [],
   "source": []
  },
  {
   "cell_type": "code",
   "execution_count": null,
   "metadata": {},
   "outputs": [],
   "source": []
  },
  {
   "cell_type": "code",
   "execution_count": null,
   "metadata": {},
   "outputs": [],
   "source": []
  },
  {
   "cell_type": "code",
   "execution_count": null,
   "metadata": {},
   "outputs": [],
   "source": []
  },
  {
   "cell_type": "code",
   "execution_count": 215,
   "metadata": {},
   "outputs": [],
   "source": [
    "pred_rf=rf.fit(x,y).predict(scaled_te)"
   ]
  },
  {
   "cell_type": "code",
   "execution_count": 216,
   "metadata": {},
   "outputs": [],
   "source": [
    "sol=pd.DataFrame(pred_rf)"
   ]
  },
  {
   "cell_type": "code",
   "execution_count": 220,
   "metadata": {},
   "outputs": [],
   "source": [
    "sol.to_csv(\"myfile_11.csv\")"
   ]
  },
  {
   "cell_type": "code",
   "execution_count": 218,
   "metadata": {},
   "outputs": [
    {
     "name": "stdout",
     "output_type": "stream",
     "text": [
      "C:\\Users\\abhis\n"
     ]
    }
   ],
   "source": [
    "cd"
   ]
  },
  {
   "cell_type": "code",
   "execution_count": null,
   "metadata": {},
   "outputs": [],
   "source": []
  },
  {
   "cell_type": "code",
   "execution_count": null,
   "metadata": {},
   "outputs": [],
   "source": []
  }
 ],
 "metadata": {
  "kernelspec": {
   "display_name": "Python 3",
   "language": "python",
   "name": "python3"
  },
  "language_info": {
   "codemirror_mode": {
    "name": "ipython",
    "version": 3
   },
   "file_extension": ".py",
   "mimetype": "text/x-python",
   "name": "python",
   "nbconvert_exporter": "python",
   "pygments_lexer": "ipython3",
   "version": "3.7.3"
  }
 },
 "nbformat": 4,
 "nbformat_minor": 2
}
